{
  "nbformat": 4,
  "nbformat_minor": 0,
  "metadata": {
    "colab": {
      "provenance": [],
      "authorship_tag": "ABX9TyMarYMR3Rk2VQzuH47syIDh",
      "include_colab_link": true
    },
    "kernelspec": {
      "name": "python3",
      "display_name": "Python 3"
    },
    "language_info": {
      "name": "python"
    }
  },
  "cells": [
    {
      "cell_type": "markdown",
      "metadata": {
        "id": "view-in-github",
        "colab_type": "text"
      },
      "source": [
        "<a href=\"https://colab.research.google.com/github/SaikrishnaParamkusham/NLP_GEN_AI/blob/master/pytorch.ipynb\" target=\"_parent\"><img src=\"https://colab.research.google.com/assets/colab-badge.svg\" alt=\"Open In Colab\"/></a>"
      ]
    },
    {
      "cell_type": "markdown",
      "source": [
        "Simple Backpropagation"
      ],
      "metadata": {
        "id": "wRzTGO3vWV4I"
      }
    },
    {
      "cell_type": "code",
      "execution_count": 1,
      "metadata": {
        "id": "R2PTvQLCQ2qu"
      },
      "outputs": [],
      "source": [
        "import torch"
      ]
    },
    {
      "cell_type": "code",
      "source": [
        "x = torch.tensor(3.0, requires_grad = True)\n",
        "print(x)"
      ],
      "metadata": {
        "colab": {
          "base_uri": "https://localhost:8080/"
        },
        "id": "XQOXr1uOQ-DA",
        "outputId": "5b140246-f946-4c83-c805-89e7af80bab0"
      },
      "execution_count": 2,
      "outputs": [
        {
          "output_type": "stream",
          "name": "stdout",
          "text": [
            "tensor(3., requires_grad=True)\n"
          ]
        }
      ]
    },
    {
      "cell_type": "code",
      "source": [
        "y = x**2"
      ],
      "metadata": {
        "id": "0zcPjfwqRcKM"
      },
      "execution_count": 3,
      "outputs": []
    },
    {
      "cell_type": "code",
      "source": [
        "y"
      ],
      "metadata": {
        "colab": {
          "base_uri": "https://localhost:8080/"
        },
        "id": "nQynhe0URisZ",
        "outputId": "c4825d78-662f-44ce-9668-b03f7fe79fef"
      },
      "execution_count": 4,
      "outputs": [
        {
          "output_type": "execute_result",
          "data": {
            "text/plain": [
              "tensor(9., grad_fn=<PowBackward0>)"
            ]
          },
          "metadata": {},
          "execution_count": 4
        }
      ]
    },
    {
      "cell_type": "code",
      "source": [
        "y.backward()"
      ],
      "metadata": {
        "id": "v7_GGV0cUHBK"
      },
      "execution_count": 5,
      "outputs": []
    },
    {
      "cell_type": "code",
      "source": [
        "# Gradient does gets stored for the non-leaf tensor\n",
        "# x.grad will give warning.\n",
        "# we can try printing\n",
        "# print(x.grad)\n",
        "print(x.grad)\n"
      ],
      "metadata": {
        "colab": {
          "base_uri": "https://localhost:8080/"
        },
        "id": "pS8xuf9DRl9o",
        "outputId": "340ec7f2-e84a-45c5-937e-83debea5bbb0"
      },
      "execution_count": 8,
      "outputs": [
        {
          "output_type": "stream",
          "name": "stdout",
          "text": [
            "tensor(6.)\n"
          ]
        }
      ]
    },
    {
      "cell_type": "markdown",
      "source": [
        "Backpropagation in a Multi-Step Computation"
      ],
      "metadata": {
        "id": "_cs_t9niWfrD"
      }
    },
    {
      "cell_type": "code",
      "source": [
        "x = torch.tensor(3.0, requires_grad=True)\n",
        "w = torch.tensor(4.0, requires_grad=True)\n",
        "b = torch.tensor(5.0, requires_grad=True)"
      ],
      "metadata": {
        "id": "XtaYmG1jWkwn"
      },
      "execution_count": 9,
      "outputs": []
    },
    {
      "cell_type": "code",
      "source": [
        "y = x * w + b\n",
        "\n",
        "y.backward()"
      ],
      "metadata": {
        "id": "gKqnf9BEXDrn"
      },
      "execution_count": 10,
      "outputs": []
    },
    {
      "cell_type": "code",
      "source": [
        "print(x.grad)\n",
        "print(w.grad)\n",
        "print(b.grad)"
      ],
      "metadata": {
        "colab": {
          "base_uri": "https://localhost:8080/"
        },
        "id": "EaOgaP2bXS-I",
        "outputId": "a042f2f3-9f6d-46a4-adc0-6829c68c072f"
      },
      "execution_count": 13,
      "outputs": [
        {
          "output_type": "stream",
          "name": "stdout",
          "text": [
            "tensor(4.)\n",
            "tensor(3.)\n",
            "tensor(1.)\n"
          ]
        }
      ]
    },
    {
      "cell_type": "markdown",
      "source": [
        "Computing Gradients for Weights & Biases"
      ],
      "metadata": {
        "id": "kURpTBNZYv1W"
      }
    },
    {
      "cell_type": "code",
      "source": [
        "import torch\n",
        "\n",
        "# Define input and target\n",
        "x = torch.tensor(2.0, requires_grad=True)  # Input\n",
        "w = torch.tensor(3.0, requires_grad=True)  # Weight\n",
        "b = torch.tensor(1.0, requires_grad=True)  # Bias\n",
        "y_true = torch.tensor(10.0)  # Target output\n",
        "\n",
        "# Compute forward pass\n",
        "y_pred = w * x + b  # Neuron output\n",
        "\n",
        "# Define loss function (Mean Squared Error)\n",
        "loss = (y_pred - y_true) ** 2\n",
        "\n",
        "# Compute gradients using backpropagation\n",
        "loss.backward()\n",
        "\n",
        "# Print gradients\n",
        "print(f\"Gradient of w: {w.grad}\")  # ∂L/∂w\n",
        "print(f\"Gradient of b: {b.grad}\")  # ∂L/∂b"
      ],
      "metadata": {
        "colab": {
          "base_uri": "https://localhost:8080/"
        },
        "id": "yjZFQOWSYqua",
        "outputId": "6582a36e-27b0-4b83-e4bb-9632d1eeff5b"
      },
      "execution_count": 15,
      "outputs": [
        {
          "output_type": "stream",
          "name": "stdout",
          "text": [
            "Gradient of w: -12.0\n",
            "Gradient of b: -6.0\n"
          ]
        }
      ]
    }
  ]
}